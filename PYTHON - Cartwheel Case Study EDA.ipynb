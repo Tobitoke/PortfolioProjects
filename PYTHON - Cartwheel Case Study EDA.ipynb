{
 "cells": [
  {
   "cell_type": "markdown",
   "id": "7e124f35",
   "metadata": {},
   "source": [
    "# CARTWHEEL - Case Study\n",
    "\n",
    "## Introduction\n",
    "This is an Exploratory Data Analysis of the \"Cartwheel\" dataset of a small team at the University of Michigan. The dataset was provided during the course of a Coursera Specialization - Statistics with Python Specialization. The purpose of this study is to find out and visualize the data's main characteristics and trends using statistical methods and data visualization techniques.\n",
    "\n",
    "\n",
    "## About the data\n",
    "The Cartwheel Dataset was collected by a team at the University of Michigan. It is a small set of data that includes the following information: age, gender, glasses-wearing or not, height, weight, wingspan (arm length), completion, cartwheel distance, and overall cartwheel score.\n",
    "\n",
    "\n",
    "\n",
    "## Objective\n",
    "The purpose of this analysis is to answer the following questions:\n",
    "* Is there a relationship, 'Height' and 'Wingspan'?\n",
    "* Is there a relationship between 'Wingspan' and 'CWDistance'?\n",
    "* Is there a relationship between 'Glasses' and 'CWDistance'?\n",
    "\n",
    "\n",
    "\n",
    "## Data Preparation\n",
    "\n",
    "Importing libraries and loading dataset"
   ]
  },
  {
   "cell_type": "code",
   "execution_count": 2,
   "id": "d8fa4a65",
   "metadata": {},
   "outputs": [],
   "source": [
    "import numpy as np\n",
    "import pandas as pd\n",
    "import seaborn as sns\n",
    "import scipy.stats as stats\n",
    "%matplotlib inline\n",
    "import matplotlib.pyplot as plt\n",
    "pd.set_option('display.max_columns', 100)\n",
    "\n",
    "path = \"Cartwheeldata.csv\""
   ]
  },
  {
   "cell_type": "code",
   "execution_count": 3,
   "id": "805df76b",
   "metadata": {},
   "outputs": [],
   "source": [
    "df = pd.read_csv(\"Cartwheeldata.csv\")"
   ]
  },
  {
   "cell_type": "markdown",
   "id": "d65b065a",
   "metadata": {},
   "source": [
    "### Retrieving column names and data types"
   ]
  },
  {
   "cell_type": "code",
   "execution_count": 4,
   "id": "950c1229",
   "metadata": {},
   "outputs": [
    {
     "name": "stdout",
     "output_type": "stream",
     "text": [
      "<class 'pandas.core.frame.DataFrame'>\n",
      "RangeIndex: 25 entries, 0 to 24\n",
      "Data columns (total 12 columns):\n",
      " #   Column         Non-Null Count  Dtype  \n",
      "---  ------         --------------  -----  \n",
      " 0   ID             25 non-null     int64  \n",
      " 1   Age            25 non-null     int64  \n",
      " 2   Gender         25 non-null     object \n",
      " 3   GenderGroup    25 non-null     int64  \n",
      " 4   Glasses        25 non-null     object \n",
      " 5   GlassesGroup   25 non-null     int64  \n",
      " 6   Height         25 non-null     float64\n",
      " 7   Wingspan       25 non-null     float64\n",
      " 8   CWDistance     25 non-null     int64  \n",
      " 9   Complete       25 non-null     object \n",
      " 10  CompleteGroup  25 non-null     int64  \n",
      " 11  Score          25 non-null     int64  \n",
      "dtypes: float64(2), int64(7), object(3)\n",
      "memory usage: 2.5+ KB\n"
     ]
    }
   ],
   "source": [
    "df.info()"
   ]
  },
  {
   "cell_type": "code",
   "execution_count": 3,
   "id": "87baa745",
   "metadata": {},
   "outputs": [
    {
     "data": {
      "text/html": [
       "<div>\n",
       "<style scoped>\n",
       "    .dataframe tbody tr th:only-of-type {\n",
       "        vertical-align: middle;\n",
       "    }\n",
       "\n",
       "    .dataframe tbody tr th {\n",
       "        vertical-align: top;\n",
       "    }\n",
       "\n",
       "    .dataframe thead th {\n",
       "        text-align: right;\n",
       "    }\n",
       "</style>\n",
       "<table border=\"1\" class=\"dataframe\">\n",
       "  <thead>\n",
       "    <tr style=\"text-align: right;\">\n",
       "      <th></th>\n",
       "      <th>ID</th>\n",
       "      <th>Age</th>\n",
       "      <th>Gender</th>\n",
       "      <th>GenderGroup</th>\n",
       "      <th>Glasses</th>\n",
       "      <th>GlassesGroup</th>\n",
       "      <th>Height</th>\n",
       "      <th>Wingspan</th>\n",
       "      <th>CWDistance</th>\n",
       "      <th>Complete</th>\n",
       "      <th>CompleteGroup</th>\n",
       "      <th>Score</th>\n",
       "    </tr>\n",
       "  </thead>\n",
       "  <tbody>\n",
       "    <tr>\n",
       "      <th>0</th>\n",
       "      <td>1</td>\n",
       "      <td>56</td>\n",
       "      <td>F</td>\n",
       "      <td>1</td>\n",
       "      <td>Y</td>\n",
       "      <td>1</td>\n",
       "      <td>62.0</td>\n",
       "      <td>61.0</td>\n",
       "      <td>79</td>\n",
       "      <td>Y</td>\n",
       "      <td>1</td>\n",
       "      <td>7</td>\n",
       "    </tr>\n",
       "    <tr>\n",
       "      <th>1</th>\n",
       "      <td>2</td>\n",
       "      <td>26</td>\n",
       "      <td>F</td>\n",
       "      <td>1</td>\n",
       "      <td>Y</td>\n",
       "      <td>1</td>\n",
       "      <td>62.0</td>\n",
       "      <td>60.0</td>\n",
       "      <td>70</td>\n",
       "      <td>Y</td>\n",
       "      <td>1</td>\n",
       "      <td>8</td>\n",
       "    </tr>\n",
       "    <tr>\n",
       "      <th>2</th>\n",
       "      <td>3</td>\n",
       "      <td>33</td>\n",
       "      <td>F</td>\n",
       "      <td>1</td>\n",
       "      <td>Y</td>\n",
       "      <td>1</td>\n",
       "      <td>66.0</td>\n",
       "      <td>64.0</td>\n",
       "      <td>85</td>\n",
       "      <td>Y</td>\n",
       "      <td>1</td>\n",
       "      <td>7</td>\n",
       "    </tr>\n",
       "    <tr>\n",
       "      <th>3</th>\n",
       "      <td>4</td>\n",
       "      <td>39</td>\n",
       "      <td>F</td>\n",
       "      <td>1</td>\n",
       "      <td>N</td>\n",
       "      <td>0</td>\n",
       "      <td>64.0</td>\n",
       "      <td>63.0</td>\n",
       "      <td>87</td>\n",
       "      <td>Y</td>\n",
       "      <td>1</td>\n",
       "      <td>10</td>\n",
       "    </tr>\n",
       "    <tr>\n",
       "      <th>4</th>\n",
       "      <td>5</td>\n",
       "      <td>27</td>\n",
       "      <td>M</td>\n",
       "      <td>2</td>\n",
       "      <td>N</td>\n",
       "      <td>0</td>\n",
       "      <td>73.0</td>\n",
       "      <td>75.0</td>\n",
       "      <td>72</td>\n",
       "      <td>N</td>\n",
       "      <td>0</td>\n",
       "      <td>4</td>\n",
       "    </tr>\n",
       "  </tbody>\n",
       "</table>\n",
       "</div>"
      ],
      "text/plain": [
       "   ID  Age Gender  GenderGroup Glasses  GlassesGroup  Height  Wingspan  \\\n",
       "0   1   56      F            1       Y             1    62.0      61.0   \n",
       "1   2   26      F            1       Y             1    62.0      60.0   \n",
       "2   3   33      F            1       Y             1    66.0      64.0   \n",
       "3   4   39      F            1       N             0    64.0      63.0   \n",
       "4   5   27      M            2       N             0    73.0      75.0   \n",
       "\n",
       "   CWDistance Complete  CompleteGroup  Score  \n",
       "0          79        Y              1      7  \n",
       "1          70        Y              1      8  \n",
       "2          85        Y              1      7  \n",
       "3          87        Y              1     10  \n",
       "4          72        N              0      4  "
      ]
     },
     "execution_count": 3,
     "metadata": {},
     "output_type": "execute_result"
    }
   ],
   "source": [
    "\n",
    "df.head()"
   ]
  },
  {
   "cell_type": "markdown",
   "id": "038051a5",
   "metadata": {},
   "source": [
    "## Data Processing\n",
    "\n",
    "\n",
    "### Checking for missing values"
   ]
  },
  {
   "cell_type": "code",
   "execution_count": 5,
   "id": "3b67a914",
   "metadata": {},
   "outputs": [
    {
     "data": {
      "text/plain": [
       "ID               0\n",
       "Age              0\n",
       "Gender           0\n",
       "GenderGroup      0\n",
       "Glasses          0\n",
       "GlassesGroup     0\n",
       "Height           0\n",
       "Wingspan         0\n",
       "CWDistance       0\n",
       "Complete         0\n",
       "CompleteGroup    0\n",
       "Score            0\n",
       "dtype: int64"
      ]
     },
     "execution_count": 5,
     "metadata": {},
     "output_type": "execute_result"
    }
   ],
   "source": [
    "missing_data = df.isna().sum().sort_values(ascending=False)\n",
    "missing_data"
   ]
  },
  {
   "cell_type": "markdown",
   "id": "826a6550",
   "metadata": {},
   "source": [
    "### Checking for duplicates"
   ]
  },
  {
   "cell_type": "code",
   "execution_count": 6,
   "id": "459dad1a",
   "metadata": {},
   "outputs": [
    {
     "data": {
      "text/plain": [
       "False"
      ]
     },
     "execution_count": 6,
     "metadata": {},
     "output_type": "execute_result"
    }
   ],
   "source": [
    "df['ID'].duplicated().any()"
   ]
  },
  {
   "cell_type": "markdown",
   "id": "99b6c071",
   "metadata": {},
   "source": [
    "## Data Analysis & Observations\n",
    "\n",
    "\n",
    "### 1. Looking at two variables expected to have a strong relationship, 'Height' and 'Wingspan'."
   ]
  },
  {
   "cell_type": "code",
   "execution_count": 4,
   "id": "a522769d",
   "metadata": {},
   "outputs": [
    {
     "data": {
      "text/plain": [
       "<AxesSubplot:xlabel='Height', ylabel='Wingspan'>"
      ]
     },
     "execution_count": 4,
     "metadata": {},
     "output_type": "execute_result"
    },
    {
     "data": {
      "image/png": "[encoded data removed]",
      "text/plain": [
       "<Figure size 432x288 with 1 Axes>"
      ]
     },
     "metadata": {
      "needs_background": "light"
     },
     "output_type": "display_data"
    }
   ],
   "source": [
    "sns.scatterplot(x=\"Height\", y=\"Wingspan\", data=df)"
   ]
  },
  {
   "cell_type": "markdown",
   "id": "9ab43798",
   "metadata": {},
   "source": [
    "### 2. Looking at  'Height' and 'Wingspan' amongst the male and female Genders"
   ]
  },
  {
   "cell_type": "code",
   "execution_count": 5,
   "id": "244168c2",
   "metadata": {},
   "outputs": [
    {
     "data": {
      "text/plain": [
       "<AxesSubplot:xlabel='Height', ylabel='Wingspan'>"
      ]
     },
     "execution_count": 5,
     "metadata": {},
     "output_type": "execute_result"
    },
    {
     "data": {
      "image/png": "[encoded data removed]",
      "text/plain": [
       "<Figure size 432x288 with 1 Axes>"
      ]
     },
     "metadata": {
      "needs_background": "light"
     },
     "output_type": "display_data"
    }
   ],
   "source": [
    "sns.scatterplot(x=\"Height\", y=\"Wingspan\", hue=\"Gender\", data=df)"
   ]
  },
  {
   "cell_type": "markdown",
   "id": "1fde3e6c",
   "metadata": {},
   "source": [
    "**Observations:**\n",
    "\n",
    "'Height' and 'Wingspan' have a Strong linear correlation with no outliers and similar ranges"
   ]
  },
  {
   "cell_type": "markdown",
   "id": "be5660d2",
   "metadata": {},
   "source": [
    "### 3. Looking at 'Wingspan' and 'CWDistance'"
   ]
  },
  {
   "cell_type": "code",
   "execution_count": 6,
   "id": "38843b24",
   "metadata": {},
   "outputs": [
    {
     "data": {
      "text/plain": [
       "<AxesSubplot:xlabel='Wingspan', ylabel='CWDistance'>"
      ]
     },
     "execution_count": 6,
     "metadata": {},
     "output_type": "execute_result"
    },
    {
     "data": {
      "image/png": "[encoded data removed]",
      "text/plain": [
       "<Figure size 432x288 with 1 Axes>"
      ]
     },
     "metadata": {
      "needs_background": "light"
     },
     "output_type": "display_data"
    }
   ],
   "source": [
    "sns.scatterplot(x=\"Wingspan\", y=\"CWDistance\", data=df)"
   ]
  },
  {
   "cell_type": "code",
   "execution_count": 7,
   "id": "9e8b950b",
   "metadata": {},
   "outputs": [
    {
     "data": {
      "text/plain": [
       "Text(0.5, 1.0, 'CWDistance')"
      ]
     },
     "execution_count": 7,
     "metadata": {},
     "output_type": "execute_result"
    },
    {
     "data": {
      "image/png": "[encoded data removed]",
      "text/plain": [
       "<Figure size 432x432 with 2 Axes>"
      ]
     },
     "metadata": {
      "needs_background": "light"
     },
     "output_type": "display_data"
    }
   ],
   "source": [
    "plt.figure(2, figsize=(6,6))\n",
    "plt.subplots_adjust(hspace=0.3)\n",
    "\n",
    "plt.subplot(1, 2, 1)\n",
    "sns.boxplot(data=df[\"Wingspan\"]).set_title(\"Wingspan\")\n",
    "\n",
    "plt.subplot(1, 2, 2)\n",
    "sns.boxplot(data=df[\"CWDistance\"]).set_title(\"CWDistance\")"
   ]
  },
  {
   "cell_type": "markdown",
   "id": "41b37b92",
   "metadata": {},
   "source": [
    "**Observations:** \n",
    "\n",
    "* There is no apparent relationship between 'Wingspan' and 'CWDistance'and their ranges are very different.\n",
    "\n",
    "* The above visuals are reflecting no correlation or at most very weak\n",
    "\n",
    "\n",
    "### 4.  Looking at 'Wingspan' and 'CWDistance' among the male & female Genders"
   ]
  },
  {
   "cell_type": "code",
   "execution_count": 8,
   "id": "02d00d94",
   "metadata": {},
   "outputs": [
    {
     "data": {
      "text/plain": [
       "<AxesSubplot:xlabel='Wingspan', ylabel='CWDistance'>"
      ]
     },
     "execution_count": 8,
     "metadata": {},
     "output_type": "execute_result"
    },
    {
     "data": {
      "image/png": "[encoded data removed]",
      "text/plain": [
       "<Figure size 432x288 with 1 Axes>"
      ]
     },
     "metadata": {
      "needs_background": "light"
     },
     "output_type": "display_data"
    }
   ],
   "source": [
    "sns.scatterplot(x=\"Wingspan\", y=\"CWDistance\", hue=\"Gender\", data=df)"
   ]
  },
  {
   "cell_type": "markdown",
   "id": "a792f95c",
   "metadata": {},
   "source": [
    "**Observations:**\n",
    "\n",
    "This new information on the above plot does change our initial interpretation of the relationship between 'Wingspan' and 'CWDistance', it only shows that men tend to have longer wingspan and cover longer cartwheel distance than do women"
   ]
  },
  {
   "cell_type": "markdown",
   "id": "43e44fe0",
   "metadata": {},
   "source": [
    "### 5. Looking at Glasses and 'CWDistance'"
   ]
  },
  {
   "cell_type": "code",
   "execution_count": 9,
   "id": "15eb5f83",
   "metadata": {},
   "outputs": [
    {
     "data": {
      "text/plain": [
       "<AxesSubplot:xlabel='Glasses', ylabel='CWDistance'>"
      ]
     },
     "execution_count": 9,
     "metadata": {},
     "output_type": "execute_result"
    },
    {
     "data": {
      "image/png": "[encoded data removed]",
      "text/plain": [
       "<Figure size 432x288 with 1 Axes>"
      ]
     },
     "metadata": {
      "needs_background": "light"
     },
     "output_type": "display_data"
    }
   ],
   "source": [
    "sns.barplot(x=\"Glasses\", y=\"CWDistance\", data=df)"
   ]
  },
  {
   "cell_type": "markdown",
   "id": "ce3ab24b",
   "metadata": {},
   "source": [
    "**Observations:**\n",
    "\n",
    "There is very little difference in the distance covered by glasses wearing subjects and that covered by non-glasses wearing subjects. Reflecting no relationship between glasses and cartwheel distance covered.\n",
    "\n",
    "\n",
    "### 6. Looking at Glasses and 'CWDistance' amongs the male & female Genders"
   ]
  },
  {
   "cell_type": "code",
   "execution_count": 10,
   "id": "7adcf97c",
   "metadata": {},
   "outputs": [
    {
     "data": {
      "text/plain": [
       "<AxesSubplot:xlabel='Glasses', ylabel='CWDistance'>"
      ]
     },
     "execution_count": 10,
     "metadata": {},
     "output_type": "execute_result"
    },
    {
     "data": {
      "image/png": "[encoded data removed]",
      "text/plain": [
       "<Figure size 432x288 with 1 Axes>"
      ]
     },
     "metadata": {
      "needs_background": "light"
     },
     "output_type": "display_data"
    }
   ],
   "source": [
    "sns.barplot(x=\"Glasses\", y=\"CWDistance\", hue=\"Gender\", data=df)"
   ]
  },
  {
   "cell_type": "markdown",
   "id": "4d9c48f0",
   "metadata": {},
   "source": [
    "Men who wore glasses covered longer cartwheel distance than women who wore glasses, however the relationship was slightly reversed for the subjects not wearing glasses."
   ]
  }
 ],
 "metadata": {
  "kernelspec": {
   "display_name": "Python 3 (ipykernel)",
   "language": "python",
   "name": "python3"
  },
  "language_info": {
   "codemirror_mode": {
    "name": "ipython",
    "version": 3
   },
   "file_extension": ".py",
   "mimetype": "text/x-python",
   "name": "python",
   "nbconvert_exporter": "python",
   "pygments_lexer": "ipython3",
   "version": "3.9.12"
  }
 },
 "nbformat": 4,
 "nbformat_minor": 5
}
